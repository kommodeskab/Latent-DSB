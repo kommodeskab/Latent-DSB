{
 "cells": [
  {
   "cell_type": "code",
   "execution_count": 4,
   "metadata": {},
   "outputs": [
    {
     "name": "stderr",
     "output_type": "stream",
     "text": [
      "100%|██████████| 10/10 [00:05<00:00,  1.94it/s]"
     ]
    },
    {
     "name": "stdout",
     "output_type": "stream",
     "text": [
      "KAD: -7.089915871620178\n"
     ]
    },
    {
     "name": "stderr",
     "output_type": "stream",
     "text": [
      "\n"
     ]
    }
   ],
   "source": [
    "from src.callbacks.metrics import KAD\n",
    "from src.dataset import ClippedLibri\n",
    "from tqdm import tqdm\n",
    "\n",
    "dataset = ClippedLibri(length_seconds=1.0, return_pair=True)\n",
    "kad = KAD(sample_rate=16000, device='cpu')\n",
    "\n",
    "for i in tqdm(range(10)):\n",
    "    x, y = dataset[i]\n",
    "    kad.update(x, y)\n",
    "print(f'KAD: {kad.compute()}')"
   ]
  }
 ],
 "metadata": {
  "kernelspec": {
   "display_name": ".venv",
   "language": "python",
   "name": "python3"
  },
  "language_info": {
   "codemirror_mode": {
    "name": "ipython",
    "version": 3
   },
   "file_extension": ".py",
   "mimetype": "text/x-python",
   "name": "python",
   "nbconvert_exporter": "python",
   "pygments_lexer": "ipython3",
   "version": "3.11.9"
  }
 },
 "nbformat": 4,
 "nbformat_minor": 2
}
